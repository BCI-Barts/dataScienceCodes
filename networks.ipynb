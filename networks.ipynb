{
 "cells": [
  {
   "cell_type": "code",
   "execution_count": 61,
   "metadata": {},
   "outputs": [
    {
     "data": {
      "text/html": [
       "<script type=\"text/javascript\">window.PlotlyConfig = {MathJaxConfig: 'local'};</script><script type=\"text/javascript\">if (window.MathJax) {MathJax.Hub.Config({SVG: {font: \"STIX-Web\"}});}</script><script>requirejs.config({paths: { 'plotly': ['https://cdn.plot.ly/plotly-latest.min']},});if(!window._Plotly) {require(['plotly'],function(plotly) {window._Plotly=plotly;});}</script>"
      ],
      "text/vnd.plotly.v1+html": [
       "<script type=\"text/javascript\">window.PlotlyConfig = {MathJaxConfig: 'local'};</script><script type=\"text/javascript\">if (window.MathJax) {MathJax.Hub.Config({SVG: {font: \"STIX-Web\"}});}</script><script>requirejs.config({paths: { 'plotly': ['https://cdn.plot.ly/plotly-latest.min']},});if(!window._Plotly) {require(['plotly'],function(plotly) {window._Plotly=plotly;});}</script>"
      ]
     },
     "metadata": {},
     "output_type": "display_data"
    }
   ],
   "source": [
    "#---------------------------------------------------------------------------------------\n",
    "# network plots for Gene1 Gene2 EdgeWeight Type   \n",
    "# default is to compute distance by EdgeWeight, Shape by Type and Size by popularity\n",
    "#---------------------------------------------------------------------------------------\n",
    "import matplotlib\n",
    "import networkx as nx\n",
    "import pandas as pd\n",
    "import numpy as np\n",
    "import plotly\n",
    "import plotly.plotly as py\n",
    "import plotly.graph_objs as go\n",
    "from plotly.offline import download_plotlyjs, init_notebook_mode, plot, iplot\n",
    "\n",
    "#----------------------------------------\n",
    "# Load Files\n",
    "#----------------------------------------\n",
    "init_notebook_mode(connected=True)\n",
    "data      = pd.read_csv(\"C://Users/lobley01/Documents/Enetwork.txt\",sep=\"\\t\")\n",
    "data_dict = data.to_dict('index')\n",
    "#----------------------------------------\n"
   ]
  },
  {
   "cell_type": "code",
   "execution_count": 80,
   "metadata": {},
   "outputs": [],
   "source": [
    "#----------------------------------------\n",
    "# Auxillary Helper Functions\n",
    "#----------------------------------------\n",
    "def createGraph(pairs, name='Title', weight=0):\n",
    "    \n",
    "    G = nx.Graph()\n",
    "    G.name = name\n",
    "    \n",
    "\n",
    "    for pair in pairs.items():\n",
    "        pair=pair[1]\n",
    "        if int(pair['wgt']) > weight:\n",
    "            G.add_edge(pair['GeneA'], pair['GeneB'], weight=pair['wgt'])\n",
    "    return G\n",
    "#----------------------------------------\n",
    "\n",
    "\n"
   ]
  },
  {
   "cell_type": "code",
   "execution_count": 82,
   "metadata": {},
   "outputs": [],
   "source": [
    "def updateNetwork(G, nodePos, title, clrScale='YlGnBu', nodeSize=20, shapes='circle'):\n",
    "    Xv = [pos[k][0] for k in G.nodes]\n",
    "    Yv = [pos[k][1] for k in G.nodes]\n",
    "    Xed = []\n",
    "    Yed = []\n",
    "    for edge in G.edges():\n",
    "        Xed += [pos[edge[0]][0], pos[edge[1]][0], None]\n",
    "        Yed += [pos[edge[0]][1], pos[edge[1]][1], None]\n",
    "\n",
    "    edge_trace = go.Scatter(x=Xed, y=Yed, line=dict(\n",
    "        width=0.5, color='#888'), hoverinfo='none', mode='lines')\n",
    "\n",
    "    node_trace = go.Scatter(\n",
    "        x=Xv,\n",
    "        y=Yv,\n",
    "        text=[],\n",
    "        mode='markers',\n",
    "        hoverinfo='text',\n",
    "        marker=dict(showscale=True, colorscale=clrScale, reversescale=True, color=[], size=nodeSize,\n",
    "                    symbol= shapes, #  colorbar=dict(thickness=15, title='Node Connections',\n",
    "                   #               xanchor='left', titleside='right'),\n",
    "                    line=dict(width=2)))\n",
    "\n",
    "    for node, adjacencies in G.adjacency():\n",
    "\n",
    "        node_trace['marker']['color'] += tuple([len(adjacencies)])\n",
    "        node_info = node\n",
    "        node_trace['text'] += tuple([node_info])\n",
    "\n",
    "    fig = go.Figure(data=[edge_trace, node_trace],\n",
    "                    layout=go.Layout(title='<br>' + title,\n",
    "                                     titlefont=dict(size=16),\n",
    "                                     showlegend=False,\n",
    "                                     hovermode='closest',\n",
    "                                     margin=dict(b=20, l=5, r=5, t=40),\n",
    "                                     xaxis=dict(showgrid=False, \n",
    "                                                zeroline=False,\n",
    "                                                showticklabels=False),\n",
    "                                     yaxis=dict(showgrid=False, zeroline=False, showticklabels=False)))\n",
    "\n",
    "    return fig\n",
    "\n"
   ]
  },
  {
   "cell_type": "code",
   "execution_count": 83,
   "metadata": {},
   "outputs": [
    {
     "data": {
      "application/vnd.plotly.v1+json": {
       "config": {
        "linkText": "Export to plot.ly",
        "plotlyServerURL": "https://plot.ly",
        "showLink": false
       },
       "data": [
        {
         "hoverinfo": "none",
         "line": {
          "color": "#888",
          "width": 0.5
         },
         "mode": "lines",
         "type": "scatter",
         "uid": "936bc1cd-b912-4531-aea1-37debfbdd22a",
         "x": [
          -0.18358254050089906,
          -0.026321155516346176,
          null,
          -0.06562043804757259,
          -0.026321155516346176,
          null,
          0.21648016644582718,
          -0.026321155516346176,
          null,
          1,
          -0.026321155516346176,
          null,
          0.490125970313537,
          -0.026321155516346176,
          null,
          -0.2109104332245188,
          -0.026321155516346176,
          null,
          -0.460216572411186,
          -0.026321155516346176,
          null,
          0.4107433171104303,
          -0.026321155516346176,
          null,
          -0.29708581208070556,
          -0.026321155516346176,
          null,
          -0.5910488658984374,
          -0.026321155516346176,
          null,
          0.1958006198347057,
          -0.026321155516346176,
          null,
          -0.026321155516346176,
          -0.5590869198273777,
          null,
          -0.026321155516346176,
          -0.6806272031164559,
          null,
          -0.026321155516346176,
          0.41969262589208384,
          null,
          -0.026321155516346176,
          0.43856534883683657,
          null,
          -0.026321155516346176,
          -0.09690810780992162,
          null
         ],
         "y": [
          -0.383066308938832,
          -0.023673303645087844,
          null,
          0.47401264538883653,
          -0.023673303645087844,
          null,
          0.3043850283342395,
          -0.023673303645087844,
          null,
          -0.09820442195931293,
          -0.023673303645087844,
          null,
          0.11511249378189715,
          -0.023673303645087844,
          null,
          0.9879041537681966,
          -0.023673303645087844,
          null,
          -0.20321465115901557,
          -0.023673303645087844,
          null,
          -0.18993132654763575,
          -0.023673303645087844,
          null,
          0.2747670840583751,
          -0.023673303645087844,
          null,
          -0.49535771707443,
          -0.023673303645087844,
          null,
          -0.40261252553146276,
          -0.023673303645087844,
          null,
          -0.023673303645087844,
          0.05093636392345247,
          null,
          -0.023673303645087844,
          0.41506743626507664,
          null,
          -0.023673303645087844,
          -0.7413693097249159,
          null,
          -0.023673303645087844,
          0.5836730131035749,
          null,
          -0.023673303645087844,
          -0.6684286540429554,
          null
         ]
        },
        {
         "hoverinfo": "text",
         "marker": {
          "color": [
           1,
           1,
           1,
           1,
           1,
           1,
           1,
           1,
           1,
           1,
           1,
           16,
           1,
           1,
           1,
           1,
           1
          ],
          "colorscale": "Blues",
          "line": {
           "width": 2
          },
          "reversescale": true,
          "showscale": true,
          "size": 20,
          "symbol": "circle"
         },
         "mode": "markers",
         "text": [
          "Gene2",
          "Gene7",
          "Gene12",
          "Gene8",
          "Gene10",
          "Gene15",
          "Gene17",
          "Gene3",
          "Gene11",
          "Gene18",
          "Gene16",
          "Gene1",
          "Gene13",
          "Gene14",
          "Gene5",
          "Gene4",
          "Gene6"
         ],
         "type": "scatter",
         "uid": "a51b3a75-8d81-43fa-802f-b0a8f0563bc3",
         "x": [
          -0.18358254050089906,
          -0.06562043804757259,
          0.21648016644582718,
          1,
          0.490125970313537,
          -0.2109104332245188,
          -0.460216572411186,
          0.4107433171104303,
          -0.29708581208070556,
          -0.5910488658984374,
          0.1958006198347057,
          -0.026321155516346176,
          0.43856534883683657,
          -0.09690810780992162,
          -0.6806272031164559,
          -0.5590869198273777,
          0.41969262589208384
         ],
         "y": [
          -0.383066308938832,
          0.47401264538883653,
          0.3043850283342395,
          -0.09820442195931293,
          0.11511249378189715,
          0.9879041537681966,
          -0.20321465115901557,
          -0.18993132654763575,
          0.2747670840583751,
          -0.49535771707443,
          -0.40261252553146276,
          -0.023673303645087844,
          0.5836730131035749,
          -0.6684286540429554,
          0.41506743626507664,
          0.05093636392345247,
          -0.7413693097249159
         ]
        }
       ],
       "layout": {
        "hovermode": "closest",
        "margin": {
         "b": 20,
         "l": 5,
         "r": 5,
         "t": 40
        },
        "showlegend": false,
        "title": {
         "font": {
          "size": 16
         },
         "text": "<br>Cooccurence Ego-Network (>10 links)"
        },
        "xaxis": {
         "showgrid": false,
         "showticklabels": false,
         "zeroline": false
        },
        "yaxis": {
         "showgrid": false,
         "showticklabels": false,
         "zeroline": false
        }
       }
      },
      "text/html": [
       "<div id=\"b4c7d580-9cd0-498e-aeac-12cc0a8a522f\" style=\"height: 525px; width: 100%;\" class=\"plotly-graph-div\"></div><script type=\"text/javascript\">require([\"plotly\"], function(Plotly) { window.PLOTLYENV=window.PLOTLYENV || {};window.PLOTLYENV.BASE_URL=\"https://plot.ly\";Plotly.newPlot(\"b4c7d580-9cd0-498e-aeac-12cc0a8a522f\", [{\"hoverinfo\": \"none\", \"line\": {\"color\": \"#888\", \"width\": 0.5}, \"mode\": \"lines\", \"x\": [-0.18358254050089906, -0.026321155516346176, null, -0.06562043804757259, -0.026321155516346176, null, 0.21648016644582718, -0.026321155516346176, null, 1.0, -0.026321155516346176, null, 0.490125970313537, -0.026321155516346176, null, -0.2109104332245188, -0.026321155516346176, null, -0.460216572411186, -0.026321155516346176, null, 0.4107433171104303, -0.026321155516346176, null, -0.29708581208070556, -0.026321155516346176, null, -0.5910488658984374, -0.026321155516346176, null, 0.1958006198347057, -0.026321155516346176, null, -0.026321155516346176, -0.5590869198273777, null, -0.026321155516346176, -0.6806272031164559, null, -0.026321155516346176, 0.41969262589208384, null, -0.026321155516346176, 0.43856534883683657, null, -0.026321155516346176, -0.09690810780992162, null], \"y\": [-0.383066308938832, -0.023673303645087844, null, 0.47401264538883653, -0.023673303645087844, null, 0.3043850283342395, -0.023673303645087844, null, -0.09820442195931293, -0.023673303645087844, null, 0.11511249378189715, -0.023673303645087844, null, 0.9879041537681966, -0.023673303645087844, null, -0.20321465115901557, -0.023673303645087844, null, -0.18993132654763575, -0.023673303645087844, null, 0.2747670840583751, -0.023673303645087844, null, -0.49535771707443, -0.023673303645087844, null, -0.40261252553146276, -0.023673303645087844, null, -0.023673303645087844, 0.05093636392345247, null, -0.023673303645087844, 0.41506743626507664, null, -0.023673303645087844, -0.7413693097249159, null, -0.023673303645087844, 0.5836730131035749, null, -0.023673303645087844, -0.6684286540429554, null], \"type\": \"scatter\", \"uid\": \"936bc1cd-b912-4531-aea1-37debfbdd22a\"}, {\"hoverinfo\": \"text\", \"marker\": {\"color\": [1, 1, 1, 1, 1, 1, 1, 1, 1, 1, 1, 16, 1, 1, 1, 1, 1], \"colorscale\": \"Blues\", \"line\": {\"width\": 2}, \"reversescale\": true, \"showscale\": true, \"size\": 20, \"symbol\": \"circle\"}, \"mode\": \"markers\", \"text\": [\"Gene2\", \"Gene7\", \"Gene12\", \"Gene8\", \"Gene10\", \"Gene15\", \"Gene17\", \"Gene3\", \"Gene11\", \"Gene18\", \"Gene16\", \"Gene1\", \"Gene13\", \"Gene14\", \"Gene5\", \"Gene4\", \"Gene6\"], \"x\": [-0.18358254050089906, -0.06562043804757259, 0.21648016644582718, 1.0, 0.490125970313537, -0.2109104332245188, -0.460216572411186, 0.4107433171104303, -0.29708581208070556, -0.5910488658984374, 0.1958006198347057, -0.026321155516346176, 0.43856534883683657, -0.09690810780992162, -0.6806272031164559, -0.5590869198273777, 0.41969262589208384], \"y\": [-0.383066308938832, 0.47401264538883653, 0.3043850283342395, -0.09820442195931293, 0.11511249378189715, 0.9879041537681966, -0.20321465115901557, -0.18993132654763575, 0.2747670840583751, -0.49535771707443, -0.40261252553146276, -0.023673303645087844, 0.5836730131035749, -0.6684286540429554, 0.41506743626507664, 0.05093636392345247, -0.7413693097249159], \"type\": \"scatter\", \"uid\": \"a51b3a75-8d81-43fa-802f-b0a8f0563bc3\"}], {\"hovermode\": \"closest\", \"margin\": {\"b\": 20, \"l\": 5, \"r\": 5, \"t\": 40}, \"showlegend\": false, \"title\": {\"font\": {\"size\": 16}, \"text\": \"<br>Cooccurence Ego-Network (>10 links)\"}, \"xaxis\": {\"showgrid\": false, \"showticklabels\": false, \"zeroline\": false}, \"yaxis\": {\"showgrid\": false, \"showticklabels\": false, \"zeroline\": false}}, {\"showLink\": false, \"linkText\": \"Export to plot.ly\", \"plotlyServerURL\": \"https://plot.ly\"})});</script><script type=\"text/javascript\">window.addEventListener(\"resize\", function(){window._Plotly.Plots.resize(document.getElementById(\"b4c7d580-9cd0-498e-aeac-12cc0a8a522f\"));});</script>"
      ],
      "text/vnd.plotly.v1+html": [
       "<div id=\"b4c7d580-9cd0-498e-aeac-12cc0a8a522f\" style=\"height: 525px; width: 100%;\" class=\"plotly-graph-div\"></div><script type=\"text/javascript\">require([\"plotly\"], function(Plotly) { window.PLOTLYENV=window.PLOTLYENV || {};window.PLOTLYENV.BASE_URL=\"https://plot.ly\";Plotly.newPlot(\"b4c7d580-9cd0-498e-aeac-12cc0a8a522f\", [{\"hoverinfo\": \"none\", \"line\": {\"color\": \"#888\", \"width\": 0.5}, \"mode\": \"lines\", \"x\": [-0.18358254050089906, -0.026321155516346176, null, -0.06562043804757259, -0.026321155516346176, null, 0.21648016644582718, -0.026321155516346176, null, 1.0, -0.026321155516346176, null, 0.490125970313537, -0.026321155516346176, null, -0.2109104332245188, -0.026321155516346176, null, -0.460216572411186, -0.026321155516346176, null, 0.4107433171104303, -0.026321155516346176, null, -0.29708581208070556, -0.026321155516346176, null, -0.5910488658984374, -0.026321155516346176, null, 0.1958006198347057, -0.026321155516346176, null, -0.026321155516346176, -0.5590869198273777, null, -0.026321155516346176, -0.6806272031164559, null, -0.026321155516346176, 0.41969262589208384, null, -0.026321155516346176, 0.43856534883683657, null, -0.026321155516346176, -0.09690810780992162, null], \"y\": [-0.383066308938832, -0.023673303645087844, null, 0.47401264538883653, -0.023673303645087844, null, 0.3043850283342395, -0.023673303645087844, null, -0.09820442195931293, -0.023673303645087844, null, 0.11511249378189715, -0.023673303645087844, null, 0.9879041537681966, -0.023673303645087844, null, -0.20321465115901557, -0.023673303645087844, null, -0.18993132654763575, -0.023673303645087844, null, 0.2747670840583751, -0.023673303645087844, null, -0.49535771707443, -0.023673303645087844, null, -0.40261252553146276, -0.023673303645087844, null, -0.023673303645087844, 0.05093636392345247, null, -0.023673303645087844, 0.41506743626507664, null, -0.023673303645087844, -0.7413693097249159, null, -0.023673303645087844, 0.5836730131035749, null, -0.023673303645087844, -0.6684286540429554, null], \"type\": \"scatter\", \"uid\": \"936bc1cd-b912-4531-aea1-37debfbdd22a\"}, {\"hoverinfo\": \"text\", \"marker\": {\"color\": [1, 1, 1, 1, 1, 1, 1, 1, 1, 1, 1, 16, 1, 1, 1, 1, 1], \"colorscale\": \"Blues\", \"line\": {\"width\": 2}, \"reversescale\": true, \"showscale\": true, \"size\": 20, \"symbol\": \"circle\"}, \"mode\": \"markers\", \"text\": [\"Gene2\", \"Gene7\", \"Gene12\", \"Gene8\", \"Gene10\", \"Gene15\", \"Gene17\", \"Gene3\", \"Gene11\", \"Gene18\", \"Gene16\", \"Gene1\", \"Gene13\", \"Gene14\", \"Gene5\", \"Gene4\", \"Gene6\"], \"x\": [-0.18358254050089906, -0.06562043804757259, 0.21648016644582718, 1.0, 0.490125970313537, -0.2109104332245188, -0.460216572411186, 0.4107433171104303, -0.29708581208070556, -0.5910488658984374, 0.1958006198347057, -0.026321155516346176, 0.43856534883683657, -0.09690810780992162, -0.6806272031164559, -0.5590869198273777, 0.41969262589208384], \"y\": [-0.383066308938832, 0.47401264538883653, 0.3043850283342395, -0.09820442195931293, 0.11511249378189715, 0.9879041537681966, -0.20321465115901557, -0.18993132654763575, 0.2747670840583751, -0.49535771707443, -0.40261252553146276, -0.023673303645087844, 0.5836730131035749, -0.6684286540429554, 0.41506743626507664, 0.05093636392345247, -0.7413693097249159], \"type\": \"scatter\", \"uid\": \"a51b3a75-8d81-43fa-802f-b0a8f0563bc3\"}], {\"hovermode\": \"closest\", \"margin\": {\"b\": 20, \"l\": 5, \"r\": 5, \"t\": 40}, \"showlegend\": false, \"title\": {\"font\": {\"size\": 16}, \"text\": \"<br>Cooccurence Ego-Network (>10 links)\"}, \"xaxis\": {\"showgrid\": false, \"showticklabels\": false, \"zeroline\": false}, \"yaxis\": {\"showgrid\": false, \"showticklabels\": false, \"zeroline\": false}}, {\"showLink\": false, \"linkText\": \"Export to plot.ly\", \"plotlyServerURL\": \"https://plot.ly\"})});</script><script type=\"text/javascript\">window.addEventListener(\"resize\", function(){window._Plotly.Plots.resize(document.getElementById(\"b4c7d580-9cd0-498e-aeac-12cc0a8a522f\"));});</script>"
      ]
     },
     "metadata": {},
     "output_type": "display_data"
    }
   ],
   "source": [
    "#----------------------------------------\n",
    "# Co-occurence Network (>10 links)\n",
    "#----------------------------------------\n",
    "#G   = createGraph(data_dict, name='GeneX')\n",
    "#pos = nx.spring_layout(G, k=.5, iterations=50)\n",
    "#fig = updateNetwork(G, \n",
    "#                    pos, \n",
    "#                    'Co-occurence Network (>10 links)')\n",
    "#-----------------------------------------\n",
    "#iplot(fig)\n",
    "#-----------------------------------------\n",
    "\n",
    "\n",
    "#--------------------------------------------------\n",
    "# Co-occurence Ego-Network (>10 links)\n",
    "#--------------------------------------------------\n",
    "G = createGraph(data_dict, name='GeneX', weight=1)\n",
    "Node = 'Gene1'\n",
    "D   = nx.ego_graph(G,Node)\n",
    "pos = nx.spring_layout(D, k=.5, iterations=50)\n",
    "fig = updateNetwork(D, pos,\n",
    "                   'Cooccurence Ego-Network (>10 links)',\n",
    "                    clrScale='Blues')\n",
    "iplot(fig)\n",
    "#------------------------------------------------------"
   ]
  },
  {
   "cell_type": "code",
   "execution_count": null,
   "metadata": {},
   "outputs": [],
   "source": []
  }
 ],
 "metadata": {
  "kernelspec": {
   "display_name": "Python 3",
   "language": "python",
   "name": "python3"
  },
  "language_info": {
   "codemirror_mode": {
    "name": "ipython",
    "version": 3
   },
   "file_extension": ".py",
   "mimetype": "text/x-python",
   "name": "python",
   "nbconvert_exporter": "python",
   "pygments_lexer": "ipython3",
   "version": "3.6.5"
  }
 },
 "nbformat": 4,
 "nbformat_minor": 2
}
